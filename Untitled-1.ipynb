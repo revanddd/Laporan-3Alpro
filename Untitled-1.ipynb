{
 "cells": [
  {
   "cell_type": "code",
   "execution_count": 1,
   "metadata": {},
   "outputs": [
    {
     "name": "stdout",
     "output_type": "stream",
     "text": [
      "Anda tidak demam\n"
     ]
    }
   ],
   "source": [
    "try:\n",
    "    suhu = int(input(\"Masukkan suhu tubuh: \"))\n",
    "    if suhu >= 38:\n",
    "        print(\"Anda demam\")\n",
    "    else:\n",
    "        print(\"Anda tidak demam\")\n",
    "except Exception as e :\n",
    "    print(e)"
   ]
  },
  {
   "cell_type": "code",
   "execution_count": 3,
   "metadata": {},
   "outputs": [
    {
     "name": "stdout",
     "output_type": "stream",
     "text": [
      "Anda demam\n"
     ]
    }
   ],
   "source": [
    "try:\n",
    "    suhu = int(input(\"Masukkan suhu tubuh: \"))\n",
    "    if suhu >= 38:\n",
    "        print(\"Anda demam\")\n",
    "    else:\n",
    "        print(\"Anda tidak demam\")\n",
    "except Exception as e :\n",
    "    print(e)"
   ]
  },
  {
   "cell_type": "code",
   "execution_count": 4,
   "metadata": {},
   "outputs": [
    {
     "name": "stdout",
     "output_type": "stream",
     "text": [
      "positif\n"
     ]
    }
   ],
   "source": [
    "try:\n",
    "    bilangan = int(input(\"masukkan bilangan :\"))\n",
    "    \n",
    "    if bilangan > 0 :\n",
    "        print(\"positif\")\n",
    "    elif bilangan < 0 :\n",
    "        print(\"negatif\")\n",
    "    elif bilangan == 0:\n",
    "        print(0)\n",
    "except Exception as error:\n",
    "    print(error)"
   ]
  },
  {
   "cell_type": "code",
   "execution_count": 6,
   "metadata": {},
   "outputs": [
    {
     "name": "stdout",
     "output_type": "stream",
     "text": [
      "negatif\n"
     ]
    }
   ],
   "source": [
    "try:\n",
    "    bilangan = int(input(\"masukkan bilangan :\"))\n",
    "    \n",
    "    if bilangan > 0 :\n",
    "        print(\"positif\")\n",
    "    elif bilangan < 0 :\n",
    "        print(\"negatif\")\n",
    "    elif bilangan == 0:\n",
    "        print(0)\n",
    "except Exception as error:\n",
    "    print(error)"
   ]
  },
  {
   "cell_type": "code",
   "execution_count": 7,
   "metadata": {},
   "outputs": [
    {
     "name": "stdout",
     "output_type": "stream",
     "text": [
      "0\n"
     ]
    }
   ],
   "source": [
    "try:\n",
    "    bilangan = int(input(\"masukkan bilangan :\"))\n",
    "    \n",
    "    if bilangan > 0 :\n",
    "        print(\"positif\")\n",
    "    elif bilangan < 0 :\n",
    "        print(\"negatif\")\n",
    "    elif bilangan == 0:\n",
    "        print(0)\n",
    "except Exception as error:\n",
    "    print(error)"
   ]
  },
  {
   "cell_type": "code",
   "execution_count": 5,
   "metadata": {},
   "outputs": [
    {
     "name": "stdout",
     "output_type": "stream",
     "text": [
      "Terbesar:  89\n"
     ]
    }
   ],
   "source": [
    "try :\n",
    "    a = int(input(\"Masukkan bilangan pertama: \"))\n",
    "    b = int(input(\"Masukkan bilangan kedua: \"))\n",
    "    c = int(input(\"Masukkan bilangan ketiga: \"))\n",
    "\n",
    "    if a > b and a > c:\n",
    "        print(\"Terbesar: \", a)\n",
    "    elif b > a and b > c: \n",
    "        print(\"Terbesar: \", b)\n",
    "    elif c > a and c > b:\n",
    "        print(\"Terbesar: \", c)\n",
    "except Exception as error:\n",
    "    print (error)"
   ]
  },
  {
   "cell_type": "code",
   "execution_count": 8,
   "metadata": {},
   "outputs": [
    {
     "name": "stdout",
     "output_type": "stream",
     "text": [
      "Positif\n"
     ]
    }
   ],
   "source": [
    "bilangan = int(input(\"Masukkan suatu bilangan: \"))\n",
    "hasil = \"Positif\" if bilangan > 0 else (\"Negatif\" if bilangan < 0 else \"Nol\")\n",
    "print(hasil)"
   ]
  },
  {
   "cell_type": "code",
   "execution_count": 9,
   "metadata": {},
   "outputs": [
    {
     "name": "stdout",
     "output_type": "stream",
     "text": [
      "Negatif\n"
     ]
    }
   ],
   "source": [
    "bilangan = int(input(\"Masukkan suatu bilangan: \"))\n",
    "hasil = \"Positif\" if bilangan > 0 else (\"Negatif\" if bilangan < 0 else \"Nol\")\n",
    "print(hasil)"
   ]
  },
  {
   "cell_type": "code",
   "execution_count": 10,
   "metadata": {},
   "outputs": [
    {
     "name": "stdout",
     "output_type": "stream",
     "text": [
      "Nol\n"
     ]
    }
   ],
   "source": [
    "bilangan = int(input(\"Masukkan suatu bilangan: \"))\n",
    "hasil = \"Positif\" if bilangan > 0 else (\"Negatif\" if bilangan < 0 else \"Nol\")\n",
    "print(hasil)"
   ]
  },
  {
   "cell_type": "code",
   "execution_count": 11,
   "metadata": {},
   "outputs": [
    {
     "name": "stdout",
     "output_type": "stream",
     "text": [
      "Jumlah hari dalam bulan 2 tahun 2020 adalah: 29 hari\n"
     ]
    }
   ],
   "source": [
    "def jumlah_hari_bulan(bulan):\n",
    "    try:\n",
    "        if bulan == 2:\n",
    "            return 29  #29 hari dibulan februari (pada tahun kabiisat)\n",
    "        elif bulan in [4, 6, 9, 11]:\n",
    "            return 30  # Bulan April (4), Juni (6), September (9), dan November (11) memiliki 30 hari\n",
    "        else:\n",
    "            return 31  # Bulan Januari (1), Maret(3), Mei(5), Juli(7), Agustus(8), Oktober(10), Desember(12)\n",
    "    except Exception as e:\n",
    "        print(e)\n",
    "\n",
    "def main():\n",
    "    nomor_bulan = int(input(\"Masukkan nomor bulan (1-12): \"))\n",
    "\n",
    "    if nomor_bulan < 1 or nomor_bulan > 12:\n",
    "        print(\"Nomor bulan tidak valid!\")\n",
    "    else:\n",
    "        jumlah_hari = jumlah_hari_bulan(nomor_bulan)\n",
    "        print(f\"Jumlah hari dalam bulan {nomor_bulan} tahun 2020 adalah: {jumlah_hari} hari\")\n",
    "\n",
    "if __name__ == \"__main__\":\n",
    "    main()"
   ]
  },
  {
   "cell_type": "code",
   "execution_count": 12,
   "metadata": {},
   "outputs": [
    {
     "name": "stdout",
     "output_type": "stream",
     "text": [
      "Jumlah hari dalam bulan 5 tahun 2020 adalah: 31 hari\n"
     ]
    }
   ],
   "source": [
    "def jumlah_hari_bulan(bulan):\n",
    "    try:\n",
    "        if bulan == 2:\n",
    "            return 29  #29 hari dibulan februari (pada tahun kabiisat)\n",
    "        elif bulan in [4, 6, 9, 11]:\n",
    "            return 30  # Bulan April (4), Juni (6), September (9), dan November (11) memiliki 30 hari\n",
    "        else:\n",
    "            return 31  # Bulan Januari (1), Maret(3), Mei(5), Juli(7), Agustus(8), Oktober(10), Desember(12)\n",
    "    except Exception as e:\n",
    "        print(e)\n",
    "\n",
    "def main():\n",
    "    nomor_bulan = int(input(\"Masukkan nomor bulan (1-12): \"))\n",
    "\n",
    "    if nomor_bulan < 1 or nomor_bulan > 12:\n",
    "        print(\"Nomor bulan tidak valid!\")\n",
    "    else:\n",
    "        jumlah_hari = jumlah_hari_bulan(nomor_bulan)\n",
    "        print(f\"Jumlah hari dalam bulan {nomor_bulan} tahun 2020 adalah: {jumlah_hari} hari\")\n",
    "\n",
    "if __name__ == \"__main__\":\n",
    "    main()"
   ]
  },
  {
   "cell_type": "code",
   "execution_count": 13,
   "metadata": {},
   "outputs": [
    {
     "name": "stdout",
     "output_type": "stream",
     "text": [
      "Jumlah hari dalam bulan 9 tahun 2020 adalah: 30 hari\n"
     ]
    }
   ],
   "source": [
    "def jumlah_hari_bulan(bulan):\n",
    "    try:\n",
    "        if bulan == 2:\n",
    "            return 29  #29 hari dibulan februari (pada tahun kabiisat)\n",
    "        elif bulan in [4, 6, 9, 11]:\n",
    "            return 30  # Bulan April (4), Juni (6), September (9), dan November (11) memiliki 30 hari\n",
    "        else:\n",
    "            return 31  # Bulan Januari (1), Maret(3), Mei(5), Juli(7), Agustus(8), Oktober(10), Desember(12)\n",
    "    except Exception as e:\n",
    "        print(e)\n",
    "\n",
    "def main():\n",
    "    nomor_bulan = int(input(\"Masukkan nomor bulan (1-12): \"))\n",
    "\n",
    "    if nomor_bulan < 1 or nomor_bulan > 12:\n",
    "        print(\"Nomor bulan tidak valid!\")\n",
    "    else:\n",
    "        jumlah_hari = jumlah_hari_bulan(nomor_bulan)\n",
    "        print(f\"Jumlah hari dalam bulan {nomor_bulan} tahun 2020 adalah: {jumlah_hari} hari\")\n",
    "\n",
    "if __name__ == \"__main__\":\n",
    "    main()"
   ]
  },
  {
   "cell_type": "code",
   "execution_count": 14,
   "metadata": {},
   "outputs": [
    {
     "name": "stdout",
     "output_type": "stream",
     "text": [
      "Nomor bulan tidak valid!\n"
     ]
    }
   ],
   "source": [
    "def jumlah_hari_bulan(bulan):\n",
    "    try:\n",
    "        if bulan == 2:\n",
    "            return 29  #29 hari dibulan februari (pada tahun kabiisat)\n",
    "        elif bulan in [4, 6, 9, 11]:\n",
    "            return 30  # Bulan April (4), Juni (6), September (9), dan November (11) memiliki 30 hari\n",
    "        else:\n",
    "            return 31  # Bulan Januari (1), Maret(3), Mei(5), Juli(7), Agustus(8), Oktober(10), Desember(12)\n",
    "    except Exception as e:\n",
    "        print(e)\n",
    "\n",
    "def main():\n",
    "    nomor_bulan = int(input(\"Masukkan nomor bulan (1-12): \"))\n",
    "\n",
    "    if nomor_bulan < 1 or nomor_bulan > 12:\n",
    "        print(\"Nomor bulan tidak valid!\")\n",
    "    else:\n",
    "        jumlah_hari = jumlah_hari_bulan(nomor_bulan)\n",
    "        print(f\"Jumlah hari dalam bulan {nomor_bulan} tahun 2020 adalah: {jumlah_hari} hari\")\n",
    "\n",
    "if __name__ == \"__main__\":\n",
    "    main()"
   ]
  },
  {
   "cell_type": "code",
   "execution_count": 15,
   "metadata": {},
   "outputs": [
    {
     "name": "stdout",
     "output_type": "stream",
     "text": [
      "3 sisi sama\n"
     ]
    }
   ],
   "source": [
    "try:\n",
    "    sisi1 = float(input(\"Masukkan sisi 1: \"))\n",
    "    sisi2 = float(input(\"Masukkan sisi 2: \"))\n",
    "    sisi3 = float(input(\"Masukkan sisi 3: \"))\n",
    "\n",
    "    if sisi1 == sisi2 == sisi3:\n",
    "        print(\"3 sisi sama\")\n",
    "    elif sisi1 == sisi2 or sisi1 == sisi3 or sisi2 == sisi3:\n",
    "        print(\"2 sisi sama\")\n",
    "    else:\n",
    "        print(\"Tidak ada yang sama\")\n",
    "except Exception:\n",
    "        print(\"Masukkan harus berupa angka!\")"
   ]
  },
  {
   "cell_type": "code",
   "execution_count": 16,
   "metadata": {},
   "outputs": [
    {
     "name": "stdout",
     "output_type": "stream",
     "text": [
      "2 sisi sama\n"
     ]
    }
   ],
   "source": [
    "try:\n",
    "    sisi1 = float(input(\"Masukkan sisi 1: \"))\n",
    "    sisi2 = float(input(\"Masukkan sisi 2: \"))\n",
    "    sisi3 = float(input(\"Masukkan sisi 3: \"))\n",
    "\n",
    "    if sisi1 == sisi2 == sisi3:\n",
    "        print(\"3 sisi sama\")\n",
    "    elif sisi1 == sisi2 or sisi1 == sisi3 or sisi2 == sisi3:\n",
    "        print(\"2 sisi sama\")\n",
    "    else:\n",
    "        print(\"Tidak ada yang sama\")\n",
    "except Exception:\n",
    "        print(\"Masukkan harus berupa angka!\")"
   ]
  },
  {
   "cell_type": "code",
   "execution_count": 17,
   "metadata": {},
   "outputs": [
    {
     "name": "stdout",
     "output_type": "stream",
     "text": [
      "Tidak ada yang sama\n"
     ]
    }
   ],
   "source": [
    "try:\n",
    "    sisi1 = float(input(\"Masukkan sisi 1: \"))\n",
    "    sisi2 = float(input(\"Masukkan sisi 2: \"))\n",
    "    sisi3 = float(input(\"Masukkan sisi 3: \"))\n",
    "\n",
    "    if sisi1 == sisi2 == sisi3:\n",
    "        print(\"3 sisi sama\")\n",
    "    elif sisi1 == sisi2 or sisi1 == sisi3 or sisi2 == sisi3:\n",
    "        print(\"2 sisi sama\")\n",
    "    else:\n",
    "        print(\"Tidak ada yang sama\")\n",
    "except Exception:\n",
    "        print(\"Masukkan harus berupa angka!\")"
   ]
  }
 ],
 "metadata": {
  "kernelspec": {
   "display_name": "Python 3",
   "language": "python",
   "name": "python3"
  },
  "language_info": {
   "codemirror_mode": {
    "name": "ipython",
    "version": 3
   },
   "file_extension": ".py",
   "mimetype": "text/x-python",
   "name": "python",
   "nbconvert_exporter": "python",
   "pygments_lexer": "ipython3",
   "version": "3.12.0"
  }
 },
 "nbformat": 4,
 "nbformat_minor": 2
}
